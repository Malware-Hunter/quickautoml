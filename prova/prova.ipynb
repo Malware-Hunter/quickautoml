{
 "cells": [
  {
   "cell_type": "code",
   "execution_count": 1,
   "id": "1adda1a8",
   "metadata": {},
   "outputs": [],
   "source": [
    "import pandas as pd\n",
    "import numpy as np\n",
    "from matplotlib import pyplot as plt\n",
    "import seaborn as sea\n",
    "import re\n",
    "\n",
    "from sklearn.model_selection import train_test_split, cross_val_score\n",
    "from sklearn.feature_selection import SelectPercentile, VarianceThreshold\n",
    "from sklearn.svm import SVC\n",
    "from sklearn.ensemble import RandomForestClassifier\n",
    "\n",
    "from imblearn.under_sampling import RandomUnderSampler"
   ]
  },
  {
   "cell_type": "markdown",
   "id": "06d03ddb",
   "metadata": {},
   "source": [
    "### Configurações"
   ]
  },
  {
   "cell_type": "code",
   "execution_count": 2,
   "id": "b830b9d1",
   "metadata": {},
   "outputs": [],
   "source": [
    "pd.set_option('display.max_columns', None)\n",
    "pd.set_option('display.max_rows', None)"
   ]
  },
  {
   "cell_type": "markdown",
   "id": "a1c92e05",
   "metadata": {},
   "source": [
    "## Setup"
   ]
  },
  {
   "cell_type": "markdown",
   "id": "92dc3b11",
   "metadata": {},
   "source": [
    "Execute a célula abaixo para instalar as dependências do projeto."
   ]
  },
  {
   "cell_type": "code",
   "execution_count": null,
   "id": "7c1ebd25",
   "metadata": {},
   "outputs": [],
   "source": [
    "!pip install -r requirements.txt"
   ]
  },
  {
   "cell_type": "markdown",
   "id": "8757e427",
   "metadata": {},
   "source": [
    "Extraia o conteúdo do arquivo `DataSet_Android_Permissions` para obter o arquivo .csv necessário."
   ]
  },
  {
   "cell_type": "code",
   "execution_count": null,
   "id": "1fb9100a",
   "metadata": {},
   "outputs": [],
   "source": [
    "df = pd.read_csv('DataSet_Android_Permissions.csv', low_memory=False, index_col=0)"
   ]
  },
  {
   "cell_type": "markdown",
   "id": "1e9ee537",
   "metadata": {},
   "source": [
    "# Sumário"
   ]
  },
  {
   "cell_type": "markdown",
   "id": "f846aabe",
   "metadata": {},
   "source": [
    "- [Exploração dos dados](#Exploração-dos-dados)\n",
    "- [Limpeza dos dados](#Limpeza-dos-dados)\n",
    "    - [Tratamento de valores ausentes](#Tratamento-de-valores-ausentes)\n",
    "    - [Tratamento dos tipos de dados](#Tratamento-dos-tipos-de-dados)\n",
    "- [Análise exploratória](#Análise-exploratória)\n",
    "    - [Top 5 grupos de permissões mais utilizados](#Top-5-grupos-de-permissões-mais-utilizados)\n",
    "    - [Top 5 permissões requeridas por classificação de aplicativo](#Top-5-permissões-requeridas-por-classificação-de-aplicativo)\n",
    "    - [Top 5 permissões seguras e perigosas mais utilizadas](#Top-5-permissões-seguras-e-perigosas-mais-utilizadas)\n",
    "- [Feature engineering](#Feature-Engineering)\n",
    "- [Modelagem preditiva](#Modelagem-preditiva)\n",
    "    - [Balanceamento](#Balanceamento)\n",
    "    - [Análise estatística](#Análise-estatística)\n",
    "    - [Criação do modelo preditivo](#Criação-do-modelo-preditivo)"
   ]
  },
  {
   "cell_type": "markdown",
   "id": "ceb73bee",
   "metadata": {},
   "source": [
    "## Exploração dos dados"
   ]
  },
  {
   "cell_type": "code",
   "execution_count": 4,
   "id": "dcf6be70",
   "metadata": {},
   "outputs": [
    {
     "data": {
      "text/plain": [
       "(29999, 182)"
      ]
     },
     "execution_count": 4,
     "metadata": {},
     "output_type": "execute_result"
    }
   ],
   "source": [
    "df.shape"
   ]
  },
  {
   "cell_type": "markdown",
   "id": "06970fb8",
   "metadata": {},
   "source": [
    "É possível perceber que, em muitas colunas, o número de valores ausentes é igual. Possivelmente, isso representa linhas inteiras com valores ausentes. Neste caso, é razoável simplesmente remover tais linhas. Além disso, nas colunas ```Your accounts : act as the AccountManagerService (S)``` e ```Your accounts : Picasa Web Albums (D) ``` o número de valores ausentes é igual ao número de linhas da tabela, o que significa que essas colunas estão totalmente preenchidas com valores ausentes. Nestes casos, é razoável simplesmente removê-las."
   ]
  },
  {
   "cell_type": "code",
   "execution_count": 5,
   "id": "ed445d96",
   "metadata": {
    "scrolled": true
   },
   "outputs": [
    {
     "data": {
      "text/plain": [
       "Your accounts : act as the AccountManagerService (S)    29999\n",
       "Your accounts : Picasa Web Albums (D)                   29999\n",
       "Related apps                                              768\n",
       "Default : force device reboot (S)                         515\n",
       "Default : display unauthorized windows (S)                173\n",
       "Default : manage application tokens (S)                    62\n",
       "System tools : mount and unmount filesystems (D)           56\n",
       "System tools : write Access Point Name settings (D)        51\n",
       "Development tools : enable application debugging (D)       46\n",
       "System tools : format external storage (D)                 45\n",
       "dtype: int64"
      ]
     },
     "execution_count": 5,
     "metadata": {},
     "output_type": "execute_result"
    }
   ],
   "source": [
    "df.isnull().sum().sort_values(ascending=False)[:10]"
   ]
  },
  {
   "cell_type": "markdown",
   "id": "687a4187",
   "metadata": {},
   "source": [
    "É interessante analisar estatisticamente os dados a fim de identificar tendências na distribuição dos mesmos. Presumidamente, as colunas referentes a permissões devem armazenar valores binários, que representam a requisição ou não de determinada permissão."
   ]
  },
  {
   "cell_type": "code",
   "execution_count": 6,
   "id": "21f2f2d9",
   "metadata": {},
   "outputs": [
    {
     "data": {
      "text/html": [
       "<div>\n",
       "<style scoped>\n",
       "    .dataframe tbody tr th:only-of-type {\n",
       "        vertical-align: middle;\n",
       "    }\n",
       "\n",
       "    .dataframe tbody tr th {\n",
       "        vertical-align: top;\n",
       "    }\n",
       "\n",
       "    .dataframe thead th {\n",
       "        text-align: right;\n",
       "    }\n",
       "</style>\n",
       "<table border=\"1\" class=\"dataframe\">\n",
       "  <thead>\n",
       "    <tr style=\"text-align: right;\">\n",
       "      <th></th>\n",
       "      <th>Rating</th>\n",
       "      <th>Number of ratings</th>\n",
       "      <th>Default : Access DRM content. (S)</th>\n",
       "      <th>Default : Access all system downloads (S)</th>\n",
       "      <th>Default : Access download manager. (S)</th>\n",
       "      <th>Default : Advanced download manager functions. (S)</th>\n",
       "      <th>Default : Audio File Access (S)</th>\n",
       "      <th>Default : Install DRM content. (S)</th>\n",
       "      <th>Default : Send download notifications. (S)</th>\n",
       "      <th>Default : access the cache filesystem (S)</th>\n",
       "      <th>Default : change screen orientation (S)</th>\n",
       "      <th>Default : delete other applications' caches (S)</th>\n",
       "      <th>Default : delete other applications' data (S)</th>\n",
       "      <th>Default : disable or modify status bar (S)</th>\n",
       "      <th>Default : discover known accounts (S)</th>\n",
       "      <th>Default : display unauthorized windows (S)</th>\n",
       "      <th>Default : interact with a device admin (S)</th>\n",
       "      <th>Default : manage application tokens (S)</th>\n",
       "      <th>Default : modify battery statistics (S)</th>\n",
       "      <th>Default : permanently disable device (S)</th>\n",
       "      <th>Default : read instant messages (S)</th>\n",
       "      <th>Default : read phone state and identity (S)</th>\n",
       "      <th>Default : run in factory test mode (S)</th>\n",
       "      <th>Development tools : make all background applications close (D)</th>\n",
       "      <th>Hardware controls : control flashlight (S)</th>\n",
       "      <th>Hardware controls : record audio (D)</th>\n",
       "      <th>Hardware controls : test hardware (S)</th>\n",
       "      <th>Network communication : control Near Field Communication (D)</th>\n",
       "      <th>Network communication : make/receive Internet calls (D)</th>\n",
       "      <th>Phone calls : read phone state and identity (D)</th>\n",
       "      <th>Services that cost you money : directly call phone numbers (D)</th>\n",
       "      <th>System tools : allow Wi-Fi Multicast reception (D)</th>\n",
       "      <th>System tools : automatically start at boot (S)</th>\n",
       "      <th>System tools : change background data usage setting (S)</th>\n",
       "      <th>System tools : force stop other applications (S)</th>\n",
       "      <th>System tools : format external storage (D)</th>\n",
       "      <th>System tools : read/write to resources owned by diag (S)</th>\n",
       "      <th>System tools : send package removed broadcast (S)</th>\n",
       "      <th>System tools : write Access Point Name settings (D)</th>\n",
       "      <th>System tools : write sync settings (D)</th>\n",
       "      <th>Your accounts : Blogger (D)</th>\n",
       "      <th>Your accounts : Google App Engine (D)</th>\n",
       "      <th>Your accounts : Google Spreadsheets (D)</th>\n",
       "      <th>Your accounts : Google mail (D)</th>\n",
       "      <th>Your accounts : Picasa Web Albums (D)</th>\n",
       "      <th>Your accounts : YouTube usernames (D)</th>\n",
       "      <th>Your accounts : act as an account authenticator (D)</th>\n",
       "      <th>Your accounts : act as the AccountManagerService (S)</th>\n",
       "      <th>Your accounts : read Google service configuration (S)</th>\n",
       "      <th>Your location : coarse (network-based) location (D)</th>\n",
       "      <th>Your location : mock location sources for testing (D)</th>\n",
       "      <th>Your messages : Read Email attachments (D)</th>\n",
       "      <th>Your personal information : read user defined dictionary (D)</th>\n",
       "      <th>Your personal information : set alarm in alarm clock (S)</th>\n",
       "    </tr>\n",
       "  </thead>\n",
       "  <tbody>\n",
       "    <tr>\n",
       "      <th>count</th>\n",
       "      <td>29985.000000</td>\n",
       "      <td>2.998500e+04</td>\n",
       "      <td>29974.000000</td>\n",
       "      <td>29974.0</td>\n",
       "      <td>29964.000000</td>\n",
       "      <td>29985.000000</td>\n",
       "      <td>29985.000000</td>\n",
       "      <td>29985.000000</td>\n",
       "      <td>29954.000000</td>\n",
       "      <td>29985.000000</td>\n",
       "      <td>29985.000000</td>\n",
       "      <td>29985.000000</td>\n",
       "      <td>29985.000000</td>\n",
       "      <td>29985.000000</td>\n",
       "      <td>29985.0</td>\n",
       "      <td>29826.000000</td>\n",
       "      <td>29985.000000</td>\n",
       "      <td>29937.000000</td>\n",
       "      <td>29985.000000</td>\n",
       "      <td>29985.0</td>\n",
       "      <td>29985.0</td>\n",
       "      <td>29985.000000</td>\n",
       "      <td>29985.0</td>\n",
       "      <td>29985.000000</td>\n",
       "      <td>29985.000000</td>\n",
       "      <td>29985.000000</td>\n",
       "      <td>29985.000000</td>\n",
       "      <td>29985.000000</td>\n",
       "      <td>29985.000000</td>\n",
       "      <td>29985.000000</td>\n",
       "      <td>29985.000000</td>\n",
       "      <td>29985.000000</td>\n",
       "      <td>29985.000000</td>\n",
       "      <td>29985.0</td>\n",
       "      <td>29985.000000</td>\n",
       "      <td>29954.000000</td>\n",
       "      <td>29985.000000</td>\n",
       "      <td>29985.000000</td>\n",
       "      <td>29948.000000</td>\n",
       "      <td>29985.000000</td>\n",
       "      <td>29985.0</td>\n",
       "      <td>29970.000000</td>\n",
       "      <td>29985.000000</td>\n",
       "      <td>29985.000000</td>\n",
       "      <td>0.0</td>\n",
       "      <td>29985.000000</td>\n",
       "      <td>29985.000000</td>\n",
       "      <td>0.0</td>\n",
       "      <td>29985.000000</td>\n",
       "      <td>29985.000000</td>\n",
       "      <td>29985.000000</td>\n",
       "      <td>29985.000000</td>\n",
       "      <td>29985.000000</td>\n",
       "      <td>29985.000000</td>\n",
       "    </tr>\n",
       "    <tr>\n",
       "      <th>mean</th>\n",
       "      <td>3.537052</td>\n",
       "      <td>6.853897e+03</td>\n",
       "      <td>0.000300</td>\n",
       "      <td>0.0</td>\n",
       "      <td>0.000400</td>\n",
       "      <td>0.000033</td>\n",
       "      <td>0.000167</td>\n",
       "      <td>0.000667</td>\n",
       "      <td>0.000534</td>\n",
       "      <td>0.000033</td>\n",
       "      <td>0.002968</td>\n",
       "      <td>0.001001</td>\n",
       "      <td>0.000700</td>\n",
       "      <td>0.002368</td>\n",
       "      <td>0.0</td>\n",
       "      <td>0.000168</td>\n",
       "      <td>0.000167</td>\n",
       "      <td>0.000033</td>\n",
       "      <td>0.006803</td>\n",
       "      <td>0.0</td>\n",
       "      <td>0.0</td>\n",
       "      <td>0.000033</td>\n",
       "      <td>0.0</td>\n",
       "      <td>0.000100</td>\n",
       "      <td>0.016275</td>\n",
       "      <td>0.041988</td>\n",
       "      <td>0.001467</td>\n",
       "      <td>0.001434</td>\n",
       "      <td>0.000233</td>\n",
       "      <td>0.371386</td>\n",
       "      <td>0.081474</td>\n",
       "      <td>0.002801</td>\n",
       "      <td>0.094914</td>\n",
       "      <td>0.0</td>\n",
       "      <td>0.000467</td>\n",
       "      <td>0.000467</td>\n",
       "      <td>0.000300</td>\n",
       "      <td>0.000200</td>\n",
       "      <td>0.002605</td>\n",
       "      <td>0.009071</td>\n",
       "      <td>0.0</td>\n",
       "      <td>0.000234</td>\n",
       "      <td>0.000400</td>\n",
       "      <td>0.000600</td>\n",
       "      <td>NaN</td>\n",
       "      <td>0.000300</td>\n",
       "      <td>0.006837</td>\n",
       "      <td>NaN</td>\n",
       "      <td>0.001934</td>\n",
       "      <td>0.212006</td>\n",
       "      <td>0.021778</td>\n",
       "      <td>0.000967</td>\n",
       "      <td>0.001334</td>\n",
       "      <td>0.000400</td>\n",
       "    </tr>\n",
       "    <tr>\n",
       "      <th>std</th>\n",
       "      <td>1.424733</td>\n",
       "      <td>4.587888e+04</td>\n",
       "      <td>0.017326</td>\n",
       "      <td>0.0</td>\n",
       "      <td>0.020008</td>\n",
       "      <td>0.005775</td>\n",
       "      <td>0.012912</td>\n",
       "      <td>0.025818</td>\n",
       "      <td>0.023106</td>\n",
       "      <td>0.005775</td>\n",
       "      <td>0.054401</td>\n",
       "      <td>0.031615</td>\n",
       "      <td>0.026455</td>\n",
       "      <td>0.048604</td>\n",
       "      <td>0.0</td>\n",
       "      <td>0.012947</td>\n",
       "      <td>0.012912</td>\n",
       "      <td>0.005780</td>\n",
       "      <td>0.082203</td>\n",
       "      <td>0.0</td>\n",
       "      <td>0.0</td>\n",
       "      <td>0.005775</td>\n",
       "      <td>0.0</td>\n",
       "      <td>0.010002</td>\n",
       "      <td>0.126532</td>\n",
       "      <td>0.200564</td>\n",
       "      <td>0.038279</td>\n",
       "      <td>0.037842</td>\n",
       "      <td>0.015278</td>\n",
       "      <td>0.483183</td>\n",
       "      <td>0.273566</td>\n",
       "      <td>0.052855</td>\n",
       "      <td>0.293101</td>\n",
       "      <td>0.0</td>\n",
       "      <td>0.021603</td>\n",
       "      <td>0.021614</td>\n",
       "      <td>0.017323</td>\n",
       "      <td>0.014144</td>\n",
       "      <td>0.050969</td>\n",
       "      <td>0.094811</td>\n",
       "      <td>0.0</td>\n",
       "      <td>0.015281</td>\n",
       "      <td>0.020001</td>\n",
       "      <td>0.024494</td>\n",
       "      <td>NaN</td>\n",
       "      <td>0.017323</td>\n",
       "      <td>0.082403</td>\n",
       "      <td>NaN</td>\n",
       "      <td>0.043939</td>\n",
       "      <td>0.408736</td>\n",
       "      <td>0.145959</td>\n",
       "      <td>0.031085</td>\n",
       "      <td>0.036500</td>\n",
       "      <td>0.020001</td>\n",
       "    </tr>\n",
       "    <tr>\n",
       "      <th>min</th>\n",
       "      <td>0.000000</td>\n",
       "      <td>0.000000e+00</td>\n",
       "      <td>0.000000</td>\n",
       "      <td>0.0</td>\n",
       "      <td>0.000000</td>\n",
       "      <td>0.000000</td>\n",
       "      <td>0.000000</td>\n",
       "      <td>0.000000</td>\n",
       "      <td>0.000000</td>\n",
       "      <td>0.000000</td>\n",
       "      <td>0.000000</td>\n",
       "      <td>0.000000</td>\n",
       "      <td>0.000000</td>\n",
       "      <td>0.000000</td>\n",
       "      <td>0.0</td>\n",
       "      <td>0.000000</td>\n",
       "      <td>0.000000</td>\n",
       "      <td>0.000000</td>\n",
       "      <td>0.000000</td>\n",
       "      <td>0.0</td>\n",
       "      <td>0.0</td>\n",
       "      <td>0.000000</td>\n",
       "      <td>0.0</td>\n",
       "      <td>0.000000</td>\n",
       "      <td>0.000000</td>\n",
       "      <td>0.000000</td>\n",
       "      <td>0.000000</td>\n",
       "      <td>0.000000</td>\n",
       "      <td>0.000000</td>\n",
       "      <td>0.000000</td>\n",
       "      <td>0.000000</td>\n",
       "      <td>0.000000</td>\n",
       "      <td>0.000000</td>\n",
       "      <td>0.0</td>\n",
       "      <td>0.000000</td>\n",
       "      <td>0.000000</td>\n",
       "      <td>0.000000</td>\n",
       "      <td>0.000000</td>\n",
       "      <td>0.000000</td>\n",
       "      <td>0.000000</td>\n",
       "      <td>0.0</td>\n",
       "      <td>0.000000</td>\n",
       "      <td>0.000000</td>\n",
       "      <td>0.000000</td>\n",
       "      <td>NaN</td>\n",
       "      <td>0.000000</td>\n",
       "      <td>0.000000</td>\n",
       "      <td>NaN</td>\n",
       "      <td>0.000000</td>\n",
       "      <td>0.000000</td>\n",
       "      <td>0.000000</td>\n",
       "      <td>0.000000</td>\n",
       "      <td>0.000000</td>\n",
       "      <td>0.000000</td>\n",
       "    </tr>\n",
       "    <tr>\n",
       "      <th>25%</th>\n",
       "      <td>3.300000</td>\n",
       "      <td>4.000000e+00</td>\n",
       "      <td>0.000000</td>\n",
       "      <td>0.0</td>\n",
       "      <td>0.000000</td>\n",
       "      <td>0.000000</td>\n",
       "      <td>0.000000</td>\n",
       "      <td>0.000000</td>\n",
       "      <td>0.000000</td>\n",
       "      <td>0.000000</td>\n",
       "      <td>0.000000</td>\n",
       "      <td>0.000000</td>\n",
       "      <td>0.000000</td>\n",
       "      <td>0.000000</td>\n",
       "      <td>0.0</td>\n",
       "      <td>0.000000</td>\n",
       "      <td>0.000000</td>\n",
       "      <td>0.000000</td>\n",
       "      <td>0.000000</td>\n",
       "      <td>0.0</td>\n",
       "      <td>0.0</td>\n",
       "      <td>0.000000</td>\n",
       "      <td>0.0</td>\n",
       "      <td>0.000000</td>\n",
       "      <td>0.000000</td>\n",
       "      <td>0.000000</td>\n",
       "      <td>0.000000</td>\n",
       "      <td>0.000000</td>\n",
       "      <td>0.000000</td>\n",
       "      <td>0.000000</td>\n",
       "      <td>0.000000</td>\n",
       "      <td>0.000000</td>\n",
       "      <td>0.000000</td>\n",
       "      <td>0.0</td>\n",
       "      <td>0.000000</td>\n",
       "      <td>0.000000</td>\n",
       "      <td>0.000000</td>\n",
       "      <td>0.000000</td>\n",
       "      <td>0.000000</td>\n",
       "      <td>0.000000</td>\n",
       "      <td>0.0</td>\n",
       "      <td>0.000000</td>\n",
       "      <td>0.000000</td>\n",
       "      <td>0.000000</td>\n",
       "      <td>NaN</td>\n",
       "      <td>0.000000</td>\n",
       "      <td>0.000000</td>\n",
       "      <td>NaN</td>\n",
       "      <td>0.000000</td>\n",
       "      <td>0.000000</td>\n",
       "      <td>0.000000</td>\n",
       "      <td>0.000000</td>\n",
       "      <td>0.000000</td>\n",
       "      <td>0.000000</td>\n",
       "    </tr>\n",
       "    <tr>\n",
       "      <th>50%</th>\n",
       "      <td>4.000000</td>\n",
       "      <td>4.600000e+01</td>\n",
       "      <td>0.000000</td>\n",
       "      <td>0.0</td>\n",
       "      <td>0.000000</td>\n",
       "      <td>0.000000</td>\n",
       "      <td>0.000000</td>\n",
       "      <td>0.000000</td>\n",
       "      <td>0.000000</td>\n",
       "      <td>0.000000</td>\n",
       "      <td>0.000000</td>\n",
       "      <td>0.000000</td>\n",
       "      <td>0.000000</td>\n",
       "      <td>0.000000</td>\n",
       "      <td>0.0</td>\n",
       "      <td>0.000000</td>\n",
       "      <td>0.000000</td>\n",
       "      <td>0.000000</td>\n",
       "      <td>0.000000</td>\n",
       "      <td>0.0</td>\n",
       "      <td>0.0</td>\n",
       "      <td>0.000000</td>\n",
       "      <td>0.0</td>\n",
       "      <td>0.000000</td>\n",
       "      <td>0.000000</td>\n",
       "      <td>0.000000</td>\n",
       "      <td>0.000000</td>\n",
       "      <td>0.000000</td>\n",
       "      <td>0.000000</td>\n",
       "      <td>0.000000</td>\n",
       "      <td>0.000000</td>\n",
       "      <td>0.000000</td>\n",
       "      <td>0.000000</td>\n",
       "      <td>0.0</td>\n",
       "      <td>0.000000</td>\n",
       "      <td>0.000000</td>\n",
       "      <td>0.000000</td>\n",
       "      <td>0.000000</td>\n",
       "      <td>0.000000</td>\n",
       "      <td>0.000000</td>\n",
       "      <td>0.0</td>\n",
       "      <td>0.000000</td>\n",
       "      <td>0.000000</td>\n",
       "      <td>0.000000</td>\n",
       "      <td>NaN</td>\n",
       "      <td>0.000000</td>\n",
       "      <td>0.000000</td>\n",
       "      <td>NaN</td>\n",
       "      <td>0.000000</td>\n",
       "      <td>0.000000</td>\n",
       "      <td>0.000000</td>\n",
       "      <td>0.000000</td>\n",
       "      <td>0.000000</td>\n",
       "      <td>0.000000</td>\n",
       "    </tr>\n",
       "    <tr>\n",
       "      <th>75%</th>\n",
       "      <td>4.400000</td>\n",
       "      <td>7.160000e+02</td>\n",
       "      <td>0.000000</td>\n",
       "      <td>0.0</td>\n",
       "      <td>0.000000</td>\n",
       "      <td>0.000000</td>\n",
       "      <td>0.000000</td>\n",
       "      <td>0.000000</td>\n",
       "      <td>0.000000</td>\n",
       "      <td>0.000000</td>\n",
       "      <td>0.000000</td>\n",
       "      <td>0.000000</td>\n",
       "      <td>0.000000</td>\n",
       "      <td>0.000000</td>\n",
       "      <td>0.0</td>\n",
       "      <td>0.000000</td>\n",
       "      <td>0.000000</td>\n",
       "      <td>0.000000</td>\n",
       "      <td>0.000000</td>\n",
       "      <td>0.0</td>\n",
       "      <td>0.0</td>\n",
       "      <td>0.000000</td>\n",
       "      <td>0.0</td>\n",
       "      <td>0.000000</td>\n",
       "      <td>0.000000</td>\n",
       "      <td>0.000000</td>\n",
       "      <td>0.000000</td>\n",
       "      <td>0.000000</td>\n",
       "      <td>0.000000</td>\n",
       "      <td>1.000000</td>\n",
       "      <td>0.000000</td>\n",
       "      <td>0.000000</td>\n",
       "      <td>0.000000</td>\n",
       "      <td>0.0</td>\n",
       "      <td>0.000000</td>\n",
       "      <td>0.000000</td>\n",
       "      <td>0.000000</td>\n",
       "      <td>0.000000</td>\n",
       "      <td>0.000000</td>\n",
       "      <td>0.000000</td>\n",
       "      <td>0.0</td>\n",
       "      <td>0.000000</td>\n",
       "      <td>0.000000</td>\n",
       "      <td>0.000000</td>\n",
       "      <td>NaN</td>\n",
       "      <td>0.000000</td>\n",
       "      <td>0.000000</td>\n",
       "      <td>NaN</td>\n",
       "      <td>0.000000</td>\n",
       "      <td>0.000000</td>\n",
       "      <td>0.000000</td>\n",
       "      <td>0.000000</td>\n",
       "      <td>0.000000</td>\n",
       "      <td>0.000000</td>\n",
       "    </tr>\n",
       "    <tr>\n",
       "      <th>max</th>\n",
       "      <td>5.000000</td>\n",
       "      <td>1.908590e+06</td>\n",
       "      <td>1.000000</td>\n",
       "      <td>0.0</td>\n",
       "      <td>1.000000</td>\n",
       "      <td>1.000000</td>\n",
       "      <td>1.000000</td>\n",
       "      <td>1.000000</td>\n",
       "      <td>1.000000</td>\n",
       "      <td>1.000000</td>\n",
       "      <td>1.000000</td>\n",
       "      <td>1.000000</td>\n",
       "      <td>1.000000</td>\n",
       "      <td>1.000000</td>\n",
       "      <td>0.0</td>\n",
       "      <td>1.000000</td>\n",
       "      <td>1.000000</td>\n",
       "      <td>1.000000</td>\n",
       "      <td>1.000000</td>\n",
       "      <td>0.0</td>\n",
       "      <td>0.0</td>\n",
       "      <td>1.000000</td>\n",
       "      <td>0.0</td>\n",
       "      <td>1.000000</td>\n",
       "      <td>1.000000</td>\n",
       "      <td>1.000000</td>\n",
       "      <td>1.000000</td>\n",
       "      <td>1.000000</td>\n",
       "      <td>1.000000</td>\n",
       "      <td>1.000000</td>\n",
       "      <td>1.000000</td>\n",
       "      <td>1.000000</td>\n",
       "      <td>1.000000</td>\n",
       "      <td>0.0</td>\n",
       "      <td>1.000000</td>\n",
       "      <td>1.000000</td>\n",
       "      <td>1.000000</td>\n",
       "      <td>1.000000</td>\n",
       "      <td>1.000000</td>\n",
       "      <td>1.000000</td>\n",
       "      <td>0.0</td>\n",
       "      <td>1.000000</td>\n",
       "      <td>1.000000</td>\n",
       "      <td>1.000000</td>\n",
       "      <td>NaN</td>\n",
       "      <td>1.000000</td>\n",
       "      <td>1.000000</td>\n",
       "      <td>NaN</td>\n",
       "      <td>1.000000</td>\n",
       "      <td>1.000000</td>\n",
       "      <td>1.000000</td>\n",
       "      <td>1.000000</td>\n",
       "      <td>1.000000</td>\n",
       "      <td>1.000000</td>\n",
       "    </tr>\n",
       "  </tbody>\n",
       "</table>\n",
       "</div>"
      ],
      "text/plain": [
       "             Rating  Number of ratings  Default : Access DRM content. (S)  \\\n",
       "count  29985.000000       2.998500e+04                       29974.000000   \n",
       "mean       3.537052       6.853897e+03                           0.000300   \n",
       "std        1.424733       4.587888e+04                           0.017326   \n",
       "min        0.000000       0.000000e+00                           0.000000   \n",
       "25%        3.300000       4.000000e+00                           0.000000   \n",
       "50%        4.000000       4.600000e+01                           0.000000   \n",
       "75%        4.400000       7.160000e+02                           0.000000   \n",
       "max        5.000000       1.908590e+06                           1.000000   \n",
       "\n",
       "       Default : Access all system downloads (S)  \\\n",
       "count                                    29974.0   \n",
       "mean                                         0.0   \n",
       "std                                          0.0   \n",
       "min                                          0.0   \n",
       "25%                                          0.0   \n",
       "50%                                          0.0   \n",
       "75%                                          0.0   \n",
       "max                                          0.0   \n",
       "\n",
       "       Default : Access download manager. (S)  \\\n",
       "count                            29964.000000   \n",
       "mean                                 0.000400   \n",
       "std                                  0.020008   \n",
       "min                                  0.000000   \n",
       "25%                                  0.000000   \n",
       "50%                                  0.000000   \n",
       "75%                                  0.000000   \n",
       "max                                  1.000000   \n",
       "\n",
       "       Default : Advanced download manager functions. (S)  \\\n",
       "count                                       29985.000000    \n",
       "mean                                            0.000033    \n",
       "std                                             0.005775    \n",
       "min                                             0.000000    \n",
       "25%                                             0.000000    \n",
       "50%                                             0.000000    \n",
       "75%                                             0.000000    \n",
       "max                                             1.000000    \n",
       "\n",
       "       Default : Audio File Access (S)  Default : Install DRM content. (S)  \\\n",
       "count                     29985.000000                        29985.000000   \n",
       "mean                          0.000167                            0.000667   \n",
       "std                           0.012912                            0.025818   \n",
       "min                           0.000000                            0.000000   \n",
       "25%                           0.000000                            0.000000   \n",
       "50%                           0.000000                            0.000000   \n",
       "75%                           0.000000                            0.000000   \n",
       "max                           1.000000                            1.000000   \n",
       "\n",
       "       Default : Send download notifications. (S)  \\\n",
       "count                                29954.000000   \n",
       "mean                                     0.000534   \n",
       "std                                      0.023106   \n",
       "min                                      0.000000   \n",
       "25%                                      0.000000   \n",
       "50%                                      0.000000   \n",
       "75%                                      0.000000   \n",
       "max                                      1.000000   \n",
       "\n",
       "       Default : access the cache filesystem (S)  \\\n",
       "count                               29985.000000   \n",
       "mean                                    0.000033   \n",
       "std                                     0.005775   \n",
       "min                                     0.000000   \n",
       "25%                                     0.000000   \n",
       "50%                                     0.000000   \n",
       "75%                                     0.000000   \n",
       "max                                     1.000000   \n",
       "\n",
       "       Default : change screen orientation (S)  \\\n",
       "count                             29985.000000   \n",
       "mean                                  0.002968   \n",
       "std                                   0.054401   \n",
       "min                                   0.000000   \n",
       "25%                                   0.000000   \n",
       "50%                                   0.000000   \n",
       "75%                                   0.000000   \n",
       "max                                   1.000000   \n",
       "\n",
       "       Default : delete other applications' caches (S)  \\\n",
       "count                                     29985.000000   \n",
       "mean                                          0.001001   \n",
       "std                                           0.031615   \n",
       "min                                           0.000000   \n",
       "25%                                           0.000000   \n",
       "50%                                           0.000000   \n",
       "75%                                           0.000000   \n",
       "max                                           1.000000   \n",
       "\n",
       "       Default : delete other applications' data (S)  \\\n",
       "count                                   29985.000000   \n",
       "mean                                        0.000700   \n",
       "std                                         0.026455   \n",
       "min                                         0.000000   \n",
       "25%                                         0.000000   \n",
       "50%                                         0.000000   \n",
       "75%                                         0.000000   \n",
       "max                                         1.000000   \n",
       "\n",
       "       Default : disable or modify status bar (S)  \\\n",
       "count                                29985.000000   \n",
       "mean                                     0.002368   \n",
       "std                                      0.048604   \n",
       "min                                      0.000000   \n",
       "25%                                      0.000000   \n",
       "50%                                      0.000000   \n",
       "75%                                      0.000000   \n",
       "max                                      1.000000   \n",
       "\n",
       "       Default : discover known accounts (S)  \\\n",
       "count                                29985.0   \n",
       "mean                                     0.0   \n",
       "std                                      0.0   \n",
       "min                                      0.0   \n",
       "25%                                      0.0   \n",
       "50%                                      0.0   \n",
       "75%                                      0.0   \n",
       "max                                      0.0   \n",
       "\n",
       "       Default : display unauthorized windows (S)  \\\n",
       "count                                29826.000000   \n",
       "mean                                     0.000168   \n",
       "std                                      0.012947   \n",
       "min                                      0.000000   \n",
       "25%                                      0.000000   \n",
       "50%                                      0.000000   \n",
       "75%                                      0.000000   \n",
       "max                                      1.000000   \n",
       "\n",
       "       Default : interact with a device admin (S)  \\\n",
       "count                                29985.000000   \n",
       "mean                                     0.000167   \n",
       "std                                      0.012912   \n",
       "min                                      0.000000   \n",
       "25%                                      0.000000   \n",
       "50%                                      0.000000   \n",
       "75%                                      0.000000   \n",
       "max                                      1.000000   \n",
       "\n",
       "       Default : manage application tokens (S)  \\\n",
       "count                             29937.000000   \n",
       "mean                                  0.000033   \n",
       "std                                   0.005780   \n",
       "min                                   0.000000   \n",
       "25%                                   0.000000   \n",
       "50%                                   0.000000   \n",
       "75%                                   0.000000   \n",
       "max                                   1.000000   \n",
       "\n",
       "       Default : modify battery statistics (S)  \\\n",
       "count                             29985.000000   \n",
       "mean                                  0.006803   \n",
       "std                                   0.082203   \n",
       "min                                   0.000000   \n",
       "25%                                   0.000000   \n",
       "50%                                   0.000000   \n",
       "75%                                   0.000000   \n",
       "max                                   1.000000   \n",
       "\n",
       "       Default : permanently disable device (S)  \\\n",
       "count                                   29985.0   \n",
       "mean                                        0.0   \n",
       "std                                         0.0   \n",
       "min                                         0.0   \n",
       "25%                                         0.0   \n",
       "50%                                         0.0   \n",
       "75%                                         0.0   \n",
       "max                                         0.0   \n",
       "\n",
       "       Default : read instant messages (S)  \\\n",
       "count                              29985.0   \n",
       "mean                                   0.0   \n",
       "std                                    0.0   \n",
       "min                                    0.0   \n",
       "25%                                    0.0   \n",
       "50%                                    0.0   \n",
       "75%                                    0.0   \n",
       "max                                    0.0   \n",
       "\n",
       "       Default : read phone state and identity (S)  \\\n",
       "count                                 29985.000000   \n",
       "mean                                      0.000033   \n",
       "std                                       0.005775   \n",
       "min                                       0.000000   \n",
       "25%                                       0.000000   \n",
       "50%                                       0.000000   \n",
       "75%                                       0.000000   \n",
       "max                                       1.000000   \n",
       "\n",
       "       Default : run in factory test mode (S)  \\\n",
       "count                                 29985.0   \n",
       "mean                                      0.0   \n",
       "std                                       0.0   \n",
       "min                                       0.0   \n",
       "25%                                       0.0   \n",
       "50%                                       0.0   \n",
       "75%                                       0.0   \n",
       "max                                       0.0   \n",
       "\n",
       "       Development tools : make all background applications close (D)  \\\n",
       "count                                       29985.000000                \n",
       "mean                                            0.000100                \n",
       "std                                             0.010002                \n",
       "min                                             0.000000                \n",
       "25%                                             0.000000                \n",
       "50%                                             0.000000                \n",
       "75%                                             0.000000                \n",
       "max                                             1.000000                \n",
       "\n",
       "       Hardware controls : control flashlight (S)  \\\n",
       "count                                29985.000000   \n",
       "mean                                     0.016275   \n",
       "std                                      0.126532   \n",
       "min                                      0.000000   \n",
       "25%                                      0.000000   \n",
       "50%                                      0.000000   \n",
       "75%                                      0.000000   \n",
       "max                                      1.000000   \n",
       "\n",
       "       Hardware controls : record audio (D)  \\\n",
       "count                          29985.000000   \n",
       "mean                               0.041988   \n",
       "std                                0.200564   \n",
       "min                                0.000000   \n",
       "25%                                0.000000   \n",
       "50%                                0.000000   \n",
       "75%                                0.000000   \n",
       "max                                1.000000   \n",
       "\n",
       "       Hardware controls : test hardware (S)  \\\n",
       "count                           29985.000000   \n",
       "mean                                0.001467   \n",
       "std                                 0.038279   \n",
       "min                                 0.000000   \n",
       "25%                                 0.000000   \n",
       "50%                                 0.000000   \n",
       "75%                                 0.000000   \n",
       "max                                 1.000000   \n",
       "\n",
       "       Network communication : control Near Field Communication (D)  \\\n",
       "count                                       29985.000000              \n",
       "mean                                            0.001434              \n",
       "std                                             0.037842              \n",
       "min                                             0.000000              \n",
       "25%                                             0.000000              \n",
       "50%                                             0.000000              \n",
       "75%                                             0.000000              \n",
       "max                                             1.000000              \n",
       "\n",
       "       Network communication : make/receive Internet calls (D)  \\\n",
       "count                                       29985.000000         \n",
       "mean                                            0.000233         \n",
       "std                                             0.015278         \n",
       "min                                             0.000000         \n",
       "25%                                             0.000000         \n",
       "50%                                             0.000000         \n",
       "75%                                             0.000000         \n",
       "max                                             1.000000         \n",
       "\n",
       "       Phone calls : read phone state and identity (D)  \\\n",
       "count                                     29985.000000   \n",
       "mean                                          0.371386   \n",
       "std                                           0.483183   \n",
       "min                                           0.000000   \n",
       "25%                                           0.000000   \n",
       "50%                                           0.000000   \n",
       "75%                                           1.000000   \n",
       "max                                           1.000000   \n",
       "\n",
       "       Services that cost you money : directly call phone numbers (D)  \\\n",
       "count                                       29985.000000                \n",
       "mean                                            0.081474                \n",
       "std                                             0.273566                \n",
       "min                                             0.000000                \n",
       "25%                                             0.000000                \n",
       "50%                                             0.000000                \n",
       "75%                                             0.000000                \n",
       "max                                             1.000000                \n",
       "\n",
       "       System tools : allow Wi-Fi Multicast reception (D)  \\\n",
       "count                                       29985.000000    \n",
       "mean                                            0.002801    \n",
       "std                                             0.052855    \n",
       "min                                             0.000000    \n",
       "25%                                             0.000000    \n",
       "50%                                             0.000000    \n",
       "75%                                             0.000000    \n",
       "max                                             1.000000    \n",
       "\n",
       "       System tools : automatically start at boot (S)  \\\n",
       "count                                    29985.000000   \n",
       "mean                                         0.094914   \n",
       "std                                          0.293101   \n",
       "min                                          0.000000   \n",
       "25%                                          0.000000   \n",
       "50%                                          0.000000   \n",
       "75%                                          0.000000   \n",
       "max                                          1.000000   \n",
       "\n",
       "       System tools : change background data usage setting (S)  \\\n",
       "count                                            29985.0         \n",
       "mean                                                 0.0         \n",
       "std                                                  0.0         \n",
       "min                                                  0.0         \n",
       "25%                                                  0.0         \n",
       "50%                                                  0.0         \n",
       "75%                                                  0.0         \n",
       "max                                                  0.0         \n",
       "\n",
       "       System tools : force stop other applications (S)  \\\n",
       "count                                      29985.000000   \n",
       "mean                                           0.000467   \n",
       "std                                            0.021603   \n",
       "min                                            0.000000   \n",
       "25%                                            0.000000   \n",
       "50%                                            0.000000   \n",
       "75%                                            0.000000   \n",
       "max                                            1.000000   \n",
       "\n",
       "       System tools : format external storage (D)  \\\n",
       "count                                29954.000000   \n",
       "mean                                     0.000467   \n",
       "std                                      0.021614   \n",
       "min                                      0.000000   \n",
       "25%                                      0.000000   \n",
       "50%                                      0.000000   \n",
       "75%                                      0.000000   \n",
       "max                                      1.000000   \n",
       "\n",
       "       System tools : read/write to resources owned by diag (S)  \\\n",
       "count                                       29985.000000          \n",
       "mean                                            0.000300          \n",
       "std                                             0.017323          \n",
       "min                                             0.000000          \n",
       "25%                                             0.000000          \n",
       "50%                                             0.000000          \n",
       "75%                                             0.000000          \n",
       "max                                             1.000000          \n",
       "\n",
       "       System tools : send package removed broadcast (S)  \\\n",
       "count                                       29985.000000   \n",
       "mean                                            0.000200   \n",
       "std                                             0.014144   \n",
       "min                                             0.000000   \n",
       "25%                                             0.000000   \n",
       "50%                                             0.000000   \n",
       "75%                                             0.000000   \n",
       "max                                             1.000000   \n",
       "\n",
       "       System tools : write Access Point Name settings (D)  \\\n",
       "count                                       29948.000000     \n",
       "mean                                            0.002605     \n",
       "std                                             0.050969     \n",
       "min                                             0.000000     \n",
       "25%                                             0.000000     \n",
       "50%                                             0.000000     \n",
       "75%                                             0.000000     \n",
       "max                                             1.000000     \n",
       "\n",
       "       System tools : write sync settings (D)  Your accounts : Blogger (D)  \\\n",
       "count                            29985.000000                      29985.0   \n",
       "mean                                 0.009071                          0.0   \n",
       "std                                  0.094811                          0.0   \n",
       "min                                  0.000000                          0.0   \n",
       "25%                                  0.000000                          0.0   \n",
       "50%                                  0.000000                          0.0   \n",
       "75%                                  0.000000                          0.0   \n",
       "max                                  1.000000                          0.0   \n",
       "\n",
       "       Your accounts : Google App Engine (D)  \\\n",
       "count                           29970.000000   \n",
       "mean                                0.000234   \n",
       "std                                 0.015281   \n",
       "min                                 0.000000   \n",
       "25%                                 0.000000   \n",
       "50%                                 0.000000   \n",
       "75%                                 0.000000   \n",
       "max                                 1.000000   \n",
       "\n",
       "       Your accounts : Google Spreadsheets (D)  \\\n",
       "count                             29985.000000   \n",
       "mean                                  0.000400   \n",
       "std                                   0.020001   \n",
       "min                                   0.000000   \n",
       "25%                                   0.000000   \n",
       "50%                                   0.000000   \n",
       "75%                                   0.000000   \n",
       "max                                   1.000000   \n",
       "\n",
       "       Your accounts : Google mail (D)  Your accounts : Picasa Web Albums (D)  \\\n",
       "count                     29985.000000                                    0.0   \n",
       "mean                          0.000600                                    NaN   \n",
       "std                           0.024494                                    NaN   \n",
       "min                           0.000000                                    NaN   \n",
       "25%                           0.000000                                    NaN   \n",
       "50%                           0.000000                                    NaN   \n",
       "75%                           0.000000                                    NaN   \n",
       "max                           1.000000                                    NaN   \n",
       "\n",
       "       Your accounts : YouTube usernames (D)  \\\n",
       "count                           29985.000000   \n",
       "mean                                0.000300   \n",
       "std                                 0.017323   \n",
       "min                                 0.000000   \n",
       "25%                                 0.000000   \n",
       "50%                                 0.000000   \n",
       "75%                                 0.000000   \n",
       "max                                 1.000000   \n",
       "\n",
       "       Your accounts : act as an account authenticator (D)  \\\n",
       "count                                       29985.000000     \n",
       "mean                                            0.006837     \n",
       "std                                             0.082403     \n",
       "min                                             0.000000     \n",
       "25%                                             0.000000     \n",
       "50%                                             0.000000     \n",
       "75%                                             0.000000     \n",
       "max                                             1.000000     \n",
       "\n",
       "       Your accounts : act as the AccountManagerService (S)  \\\n",
       "count                                                0.0      \n",
       "mean                                                 NaN      \n",
       "std                                                  NaN      \n",
       "min                                                  NaN      \n",
       "25%                                                  NaN      \n",
       "50%                                                  NaN      \n",
       "75%                                                  NaN      \n",
       "max                                                  NaN      \n",
       "\n",
       "       Your accounts : read Google service configuration (S)  \\\n",
       "count                                       29985.000000       \n",
       "mean                                            0.001934       \n",
       "std                                             0.043939       \n",
       "min                                             0.000000       \n",
       "25%                                             0.000000       \n",
       "50%                                             0.000000       \n",
       "75%                                             0.000000       \n",
       "max                                             1.000000       \n",
       "\n",
       "       Your location : coarse (network-based) location (D)  \\\n",
       "count                                       29985.000000     \n",
       "mean                                            0.212006     \n",
       "std                                             0.408736     \n",
       "min                                             0.000000     \n",
       "25%                                             0.000000     \n",
       "50%                                             0.000000     \n",
       "75%                                             0.000000     \n",
       "max                                             1.000000     \n",
       "\n",
       "       Your location : mock location sources for testing (D)  \\\n",
       "count                                       29985.000000       \n",
       "mean                                            0.021778       \n",
       "std                                             0.145959       \n",
       "min                                             0.000000       \n",
       "25%                                             0.000000       \n",
       "50%                                             0.000000       \n",
       "75%                                             0.000000       \n",
       "max                                             1.000000       \n",
       "\n",
       "       Your messages : Read Email attachments (D)  \\\n",
       "count                                29985.000000   \n",
       "mean                                     0.000967   \n",
       "std                                      0.031085   \n",
       "min                                      0.000000   \n",
       "25%                                      0.000000   \n",
       "50%                                      0.000000   \n",
       "75%                                      0.000000   \n",
       "max                                      1.000000   \n",
       "\n",
       "       Your personal information : read user defined dictionary (D)  \\\n",
       "count                                       29985.000000              \n",
       "mean                                            0.001334              \n",
       "std                                             0.036500              \n",
       "min                                             0.000000              \n",
       "25%                                             0.000000              \n",
       "50%                                             0.000000              \n",
       "75%                                             0.000000              \n",
       "max                                             1.000000              \n",
       "\n",
       "       Your personal information : set alarm in alarm clock (S)  \n",
       "count                                       29985.000000         \n",
       "mean                                            0.000400         \n",
       "std                                             0.020001         \n",
       "min                                             0.000000         \n",
       "25%                                             0.000000         \n",
       "50%                                             0.000000         \n",
       "75%                                             0.000000         \n",
       "max                                             1.000000         "
      ]
     },
     "execution_count": 6,
     "metadata": {},
     "output_type": "execute_result"
    }
   ],
   "source": [
    "df.describe()"
   ]
  },
  {
   "cell_type": "code",
   "execution_count": 7,
   "id": "e8b74cee",
   "metadata": {},
   "outputs": [],
   "source": [
    "permissions_cols = [x for x in df.columns if ('S' or 'D') in x]"
   ]
  },
  {
   "cell_type": "markdown",
   "id": "aff41054",
   "metadata": {},
   "source": [
    "Podemos notar que, de fato, todas as colunas referentes a permissões possuem formato binário, sendo:\n",
    " \n",
    "  - 0: O app não requer a permissão;\n",
    "    \n",
    "  - 1: O app requer a permissão."
   ]
  },
  {
   "cell_type": "code",
   "execution_count": 8,
   "id": "e8764db3",
   "metadata": {},
   "outputs": [
    {
     "data": {
      "text/plain": [
       "array([0.0, nan, 1.0], dtype=object)"
      ]
     },
     "execution_count": 8,
     "metadata": {},
     "output_type": "execute_result"
    }
   ],
   "source": [
    "pd.unique(df[permissions_cols].values.ravel('K'))"
   ]
  },
  {
   "cell_type": "markdown",
   "id": "33d62501",
   "metadata": {},
   "source": [
    "## Limpeza dos dados"
   ]
  },
  {
   "cell_type": "markdown",
   "id": "612dd64d",
   "metadata": {},
   "source": [
    "Anteriormente, foram identificados muitos valores ausentes. Portanto, a primeira etapa de limpeza é tratá-los. Primeiramente, as colunas totalmente preenchidas com valores ausentes serão removidas e, após isso, as linhas totalmente preenchidas com tais valores."
   ]
  },
  {
   "cell_type": "markdown",
   "id": "7b550fca",
   "metadata": {},
   "source": [
    "### Tratamento de valores ausentes"
   ]
  },
  {
   "cell_type": "code",
   "execution_count": 9,
   "id": "a656ec7f",
   "metadata": {},
   "outputs": [],
   "source": [
    "null_values = df.isnull().sum().sort_values()\n",
    "N_ROWS_DF = df.shape[0]"
   ]
  },
  {
   "cell_type": "code",
   "execution_count": 10,
   "id": "ea2262ed",
   "metadata": {},
   "outputs": [
    {
     "data": {
      "text/plain": [
       "Your accounts : Picasa Web Albums (D)                   29999\n",
       "Your accounts : act as the AccountManagerService (S)    29999\n",
       "dtype: int64"
      ]
     },
     "execution_count": 10,
     "metadata": {},
     "output_type": "execute_result"
    }
   ],
   "source": [
    "null_values[null_values.ge(N_ROWS_DF)]"
   ]
  },
  {
   "cell_type": "code",
   "execution_count": 11,
   "id": "d51a99a7",
   "metadata": {},
   "outputs": [],
   "source": [
    "df.dropna(how='all', inplace=True)"
   ]
  },
  {
   "cell_type": "code",
   "execution_count": 12,
   "id": "8684b170",
   "metadata": {},
   "outputs": [],
   "source": [
    "df.dropna(how='all', axis=1, inplace=True)"
   ]
  },
  {
   "cell_type": "code",
   "execution_count": 13,
   "id": "50b55b57",
   "metadata": {},
   "outputs": [
    {
     "data": {
      "text/plain": [
       "Related apps                                            754\n",
       "Default : force device reboot (S)                       501\n",
       "Default : display unauthorized windows (S)              159\n",
       "Default : manage application tokens (S)                  48\n",
       "System tools : mount and unmount filesystems (D)         42\n",
       "System tools : write Access Point Name settings (D)      37\n",
       "Development tools : enable application debugging (D)     32\n",
       "Default : Send download notifications. (S)               31\n",
       "System tools : format external storage (D)               31\n",
       "Network communication : view network state (S)           22\n",
       "Default : Access download manager. (S)                   21\n",
       "Your accounts : Google App Engine (D)                    15\n",
       "Default : Access all system downloads (S)                11\n",
       "Default : Access DRM content. (S)                        11\n",
       "Description                                               3\n",
       "App                                                       1\n",
       "dtype: int64"
      ]
     },
     "execution_count": 13,
     "metadata": {},
     "output_type": "execute_result"
    }
   ],
   "source": [
    "index_nan_columns = df.isnull().sum().gt(0)\n",
    "df.isnull().sum().sort_values(ascending=False)[index_nan_columns]"
   ]
  },
  {
   "cell_type": "markdown",
   "id": "1ebda235",
   "metadata": {},
   "source": [
    "Os campos nome do app, apps relacionados e descrição serão preenchidos com \"não especificado\"."
   ]
  },
  {
   "cell_type": "code",
   "execution_count": 14,
   "id": "39e5d8fb",
   "metadata": {},
   "outputs": [],
   "source": [
    "df[['Related apps', 'Description', 'App']] = df[['Related apps', 'Description', 'App']] \\\n",
    "                                                .fillna(value='Não especificado')"
   ]
  },
  {
   "cell_type": "markdown",
   "id": "c35c1921",
   "metadata": {},
   "source": [
    "Considerando que os valores ausentes de permissões correspondem a uma fração muito pequena dos dados e, principalmente, que não existe nenhuma alternativa confiável de preencher artificialmente tais valores, estes serão simplesmente removidos."
   ]
  },
  {
   "cell_type": "code",
   "execution_count": 15,
   "id": "5c77cea9",
   "metadata": {},
   "outputs": [
    {
     "data": {
      "text/plain": [
       "Default : force device reboot (S)                       501\n",
       "Default : display unauthorized windows (S)              159\n",
       "Default : manage application tokens (S)                  48\n",
       "System tools : mount and unmount filesystems (D)         42\n",
       "System tools : write Access Point Name settings (D)      37\n",
       "Development tools : enable application debugging (D)     32\n",
       "Default : Send download notifications. (S)               31\n",
       "System tools : format external storage (D)               31\n",
       "Network communication : view network state (S)           22\n",
       "Default : Access download manager. (S)                   21\n",
       "Your accounts : Google App Engine (D)                    15\n",
       "Default : Access DRM content. (S)                        11\n",
       "Default : Access all system downloads (S)                11\n",
       "dtype: int64"
      ]
     },
     "execution_count": 15,
     "metadata": {},
     "output_type": "execute_result"
    }
   ],
   "source": [
    "index_nan_columns = df.isnull().sum().gt(0)\n",
    "df.isnull().sum().sort_values(ascending=False)[index_nan_columns]"
   ]
  },
  {
   "cell_type": "code",
   "execution_count": 16,
   "id": "eaceb4c1",
   "metadata": {},
   "outputs": [],
   "source": [
    "df.dropna(inplace=True, axis=1)"
   ]
  },
  {
   "cell_type": "markdown",
   "id": "890c8ffc",
   "metadata": {},
   "source": [
    "Com isso, podemos ver que todos os valores ausentes foram tratados."
   ]
  },
  {
   "cell_type": "code",
   "execution_count": 17,
   "id": "03966dc8",
   "metadata": {},
   "outputs": [
    {
     "data": {
      "text/plain": [
       "Series([], dtype: int64)"
      ]
     },
     "execution_count": 17,
     "metadata": {},
     "output_type": "execute_result"
    }
   ],
   "source": [
    "index_nan_columns = df.isnull().sum().gt(0)\n",
    "df.isnull().sum().sort_values(ascending=False)[index_nan_columns]"
   ]
  },
  {
   "cell_type": "markdown",
   "id": "24c2e3c6",
   "metadata": {},
   "source": [
    "### Tratamento dos tipos de dados"
   ]
  },
  {
   "cell_type": "markdown",
   "id": "1544384c",
   "metadata": {},
   "source": [
    "Para os propósitos de predição pelos modelos, é necessário alterar a coluna de classe, composta pelos valores `Benign` e `Malware`, para 0 e 1, respectivamente."
   ]
  },
  {
   "cell_type": "code",
   "execution_count": 18,
   "id": "b2d7e83e",
   "metadata": {},
   "outputs": [],
   "source": [
    "df.loc[:, 'Class'] = df['Class'].replace({'Benign': np.byte(0), 'Malware': np.byte(1)})"
   ]
  },
  {
   "cell_type": "markdown",
   "id": "45251714",
   "metadata": {},
   "source": [
    "Além disso, os valores booleanos presentes nas colunas de permissões apresentam valores mistos; algumas possuem valores 0 ou 1, e outras True ou False. Por se tratar da mesma informação apresentada de maneiras diferentes, esse aspecto é facilmente corrigido."
   ]
  },
  {
   "cell_type": "code",
   "execution_count": 19,
   "id": "670989c0",
   "metadata": {},
   "outputs": [],
   "source": [
    "for column in df.columns:\n",
    "    if all(isinstance(value, bool) for value in df[column]):\n",
    "        df.loc[:, column] = df[column].astype('b')"
   ]
  },
  {
   "cell_type": "code",
   "execution_count": 20,
   "id": "f7b6f464",
   "metadata": {},
   "outputs": [],
   "source": [
    "numerics = ['float16', 'float32', 'float64']\n",
    "\n",
    "for column in df.select_dtypes(include=numerics).columns:\n",
    "    if all(s in (0.0, 1.0) for s in df[column]):\n",
    "        df.loc[:, column] = df[column].astype('b')"
   ]
  },
  {
   "cell_type": "markdown",
   "id": "117e4154",
   "metadata": {},
   "source": [
    "Ao ler um dataset (e.g. através de arquivos .csv ou .xlsx), o pandas infere o tipo dos dados deste. O problema é que esses tipos não são eficientes e frequentemente resultam em desperdício de espaço. Dessa forma, é interessante alterar o tipo de dado de acordo com o valor de cada um deles.\n",
    "\n",
    "É possível observar que, sem nenhuma alteração, o dataset ocupa aproximadamente 39MB em memória."
   ]
  },
  {
   "cell_type": "code",
   "execution_count": 21,
   "id": "24802148",
   "metadata": {},
   "outputs": [
    {
     "name": "stdout",
     "output_type": "stream",
     "text": [
      "<class 'pandas.core.frame.DataFrame'>\n",
      "Int64Index: 29985 entries, 0 to 29994\n",
      "Columns: 167 entries, App to Class\n",
      "dtypes: float64(2), int64(1), int8(158), object(6)\n",
      "memory usage: 6.8+ MB\n"
     ]
    }
   ],
   "source": [
    "df.info()"
   ]
  },
  {
   "cell_type": "markdown",
   "id": "0b1e67e2",
   "metadata": {},
   "source": [
    "Na implementação do NumPy, o tipo `object` representa as strings, utilizadas em linguagens de programação de forma geral, e não pode ser substituído por outro. Por isso, para os propósitos da atividade de redução de tamanho, serão considerados apenas os dados de tipo numérico."
   ]
  },
  {
   "cell_type": "code",
   "execution_count": 22,
   "id": "52577006",
   "metadata": {},
   "outputs": [],
   "source": [
    "def convert_to_efficient_data_type(row):\n",
    "    \"\"\"\n",
    "    B: numpy.uint8: 8-bit unsigned integer (0 to 255)\n",
    "    H: numpy.uint16: 16-bit unsigned integer (0 to 65_535)\n",
    "    I: numpy.uint32: 32-bit unsigned integer (0 to 4_294_967_295)\n",
    "    e: numpy.float16: 16-bit-precision floating-point number type: \n",
    "        sign bit, 5 bits exponent, 10 bits mantissa.\n",
    "    \"\"\"\n",
    "    if all(float(num).is_integer() for num in row):\n",
    "        dtypes = ['B', 'H', 'I']\n",
    "        U_INT8_MAX = 255\n",
    "        U_INT16_MAX = 65535\n",
    "        max_value = row.max()\n",
    "        if max_value <= U_INT8_MAX:\n",
    "            return row.astype('B')\n",
    "        elif max_value > U_INT8_MAX and max_value <= U_INT16_MAX:\n",
    "            return row.astype('H')\n",
    "        elif max_value > U_INT16_MAX:\n",
    "            return row.astype('I')\n",
    "        \n",
    "    else:\n",
    "        return row.astype('e')"
   ]
  },
  {
   "cell_type": "code",
   "execution_count": 23,
   "id": "4b5417cb",
   "metadata": {},
   "outputs": [],
   "source": [
    "big_float_columns = df.select_dtypes(include=['float32', 'float64']).columns"
   ]
  },
  {
   "cell_type": "code",
   "execution_count": 24,
   "id": "41e2e4a2",
   "metadata": {},
   "outputs": [],
   "source": [
    "for col in big_float_columns:\n",
    "    df.loc[:, col] = convert_to_efficient_data_type(df[col])"
   ]
  },
  {
   "cell_type": "code",
   "execution_count": 25,
   "id": "e46e6a83",
   "metadata": {},
   "outputs": [
    {
     "name": "stdout",
     "output_type": "stream",
     "text": [
      "<class 'pandas.core.frame.DataFrame'>\n",
      "Int64Index: 29985 entries, 0 to 29994\n",
      "Columns: 167 entries, App to Class\n",
      "dtypes: float16(1), int64(1), int8(158), object(6), uint32(1)\n",
      "memory usage: 6.5+ MB\n"
     ]
    }
   ],
   "source": [
    "df.info()"
   ]
  },
  {
   "cell_type": "code",
   "execution_count": 26,
   "id": "35b38bc8",
   "metadata": {},
   "outputs": [
    {
     "data": {
      "text/plain": [
       "83.07291666666666"
      ]
     },
     "execution_count": 26,
     "metadata": {},
     "output_type": "execute_result"
    }
   ],
   "source": [
    "(38.4 - 6.5) / 38.4 * 100"
   ]
  },
  {
   "cell_type": "markdown",
   "id": "15a70958",
   "metadata": {},
   "source": [
    "Com essa operação, o uso de memória do dataset passou, de 38.4MB, para 6.5MB, resultando em uma redução de aproximadamente 83.07%."
   ]
  },
  {
   "cell_type": "markdown",
   "id": "1a13ab51",
   "metadata": {},
   "source": [
    "## Análise exploratória"
   ]
  },
  {
   "cell_type": "markdown",
   "id": "fd1631e5",
   "metadata": {},
   "source": [
    "### Top 5 grupos de permissões mais utilizados"
   ]
  },
  {
   "cell_type": "code",
   "execution_count": 27,
   "id": "20fa8cab",
   "metadata": {},
   "outputs": [],
   "source": [
    "permission_columns = [x for x in df.columns if any(re.findall('\\(.*?\\)', x))]"
   ]
  },
  {
   "cell_type": "code",
   "execution_count": 28,
   "id": "9155c724",
   "metadata": {},
   "outputs": [],
   "source": [
    "safe_permissions = [x for x in permission_columns if '(S)' in re.findall('\\(.*?\\)', x)]\n",
    "dangerous_permissions = [x for x in permission_columns if '(D)' in re.findall('\\(.*?\\)', x)]"
   ]
  },
  {
   "cell_type": "code",
   "execution_count": 29,
   "id": "bce9e684",
   "metadata": {},
   "outputs": [],
   "source": [
    "safe_permissions_by_classification = [p.split(':')[0].strip() for p in safe_permissions]\n",
    "dangerous_permissions_by_classification = [p.split(':')[0].strip() for p in dangerous_permissions]"
   ]
  },
  {
   "cell_type": "code",
   "execution_count": 30,
   "id": "3da10726",
   "metadata": {},
   "outputs": [],
   "source": [
    "safe_permissions_by_classification_count = pd.Series(safe_permissions_by_classification).value_counts()[:5]"
   ]
  },
  {
   "cell_type": "code",
   "execution_count": 31,
   "id": "0ed3f179",
   "metadata": {},
   "outputs": [],
   "source": [
    "dangerous_permissions_by_classification_count = pd.Series(dangerous_permissions_by_classification).value_counts()[:5]"
   ]
  },
  {
   "cell_type": "code",
   "execution_count": 32,
   "id": "6664d64d",
   "metadata": {},
   "outputs": [
    {
     "data": {
      "image/png": "[encoded data removed]",
      "text/plain": [
       "<Figure size 864x360 with 2 Axes>"
      ]
     },
     "metadata": {
      "needs_background": "light"
     },
     "output_type": "display_data"
    }
   ],
   "source": [
    "fig, axs = plt.subplots(2, 1, figsize=(12,5), sharex=True)\n",
    "fig.suptitle('Top 5 grupos de permissões mais utilizados')\n",
    "\n",
    "axs[0].barh(safe_permissions_by_classification_count.index, \n",
    "            safe_permissions_by_classification_count.values, color='b', label='Seguras')\n",
    "\n",
    "axs[1].barh(dangerous_permissions_by_classification_count.index, \n",
    "            dangerous_permissions_by_classification_count.values, color='orange', label='Perigosas')\n",
    "\n",
    "highest_value = safe_permissions_by_classification_count.values.max()\n",
    "\n",
    "axs[0].set_xlim([0, highest_value + 10])\n",
    "axs[1].set_xlim([0, highest_value + 10])\n",
    "\n",
    "for index in range(2):\n",
    "    axs[index].legend()\n",
    "    axs[index].grid(linestyle='dotted')"
   ]
  },
  {
   "cell_type": "markdown",
   "id": "ed6dc1c9",
   "metadata": {},
   "source": [
    "### Top 5 permissões requeridas por classificação de aplicativo"
   ]
  },
  {
   "cell_type": "code",
   "execution_count": 33,
   "id": "df98648f",
   "metadata": {},
   "outputs": [],
   "source": [
    "df_by_class = df.loc[:, permission_columns]\n",
    "df_by_class['Class'] = df['Class']\n",
    "df_by_class = df_by_class.groupby('Class').sum()\n",
    "\n",
    "benign = df_by_class.iloc[0].sort_values(ascending=True)[-5:]\n",
    "malware = df_by_class.iloc[1].sort_values(ascending=True)[-5:]"
   ]
  },
  {
   "cell_type": "code",
   "execution_count": 34,
   "id": "cc41a96c",
   "metadata": {},
   "outputs": [],
   "source": [
    "benign.index = [x.split(':')[1][1:] for x in benign.index]\n",
    "malware.index = [x.split(':')[1][1:] for x in malware.index]"
   ]
  },
  {
   "cell_type": "code",
   "execution_count": 35,
   "id": "f1fb1076",
   "metadata": {},
   "outputs": [
    {
     "data": {
      "image/png": "[encoded data removed]",
      "text/plain": [
       "<Figure size 864x360 with 2 Axes>"
      ]
     },
     "metadata": {
      "needs_background": "light"
     },
     "output_type": "display_data"
    }
   ],
   "source": [
    "fig, axs = plt.subplots(2, 1, figsize=(12,5), sharex=True)\n",
    "fig.suptitle('Top permissões requeridas por classificação do aplicativo')\n",
    "\n",
    "axs[0].barh(benign.index, benign.values, color='b', label='Benigno')\n",
    "axs[1].barh(malware.index, malware.values, color='orange', label='Malware')\n",
    "\n",
    "highest_value = malware.values.max()\n",
    "\n",
    "axs[0].set_xlim([0, highest_value + 2000])\n",
    "axs[1].set_xlim([0, highest_value + 2000])\n",
    "\n",
    "for index in range(2):\n",
    "    axs[index].legend()\n",
    "    axs[index].grid(linestyle='dotted')"
   ]
  },
  {
   "cell_type": "markdown",
   "id": "4ff70741",
   "metadata": {},
   "source": [
    "### Top 5 permissões seguras e perigosas mais utilizadas"
   ]
  },
  {
   "cell_type": "code",
   "execution_count": 36,
   "id": "36599415",
   "metadata": {},
   "outputs": [],
   "source": [
    "safe_permissions = [x for x in permission_columns if '(S)' in re.findall('\\(.*?\\)', x)]\n",
    "dangerous_permissions = [x for x in permission_columns if '(D)' in re.findall('\\(.*?\\)', x)]"
   ]
  },
  {
   "cell_type": "code",
   "execution_count": 37,
   "id": "bcca04ca",
   "metadata": {},
   "outputs": [],
   "source": [
    "df['safe_permissions'] = df[safe_permissions].sum(axis=1)\n",
    "df['dangerous_permissions'] = df[dangerous_permissions].sum(axis=1)"
   ]
  },
  {
   "cell_type": "code",
   "execution_count": 38,
   "id": "e2fea573",
   "metadata": {
    "scrolled": true
   },
   "outputs": [],
   "source": [
    "safe_permissions_count = {}\n",
    "PERMISSION_USED = 1\n",
    "\n",
    "for col in df[safe_permissions]:\n",
    "    try:\n",
    "        count = df[col].value_counts()\n",
    "        safe_permissions_count.update({\n",
    "            col: count[1]\n",
    "        })\n",
    "    except:\n",
    "        safe_permissions_count.update({\n",
    "        col: 0\n",
    "    })\n",
    "        continue"
   ]
  },
  {
   "cell_type": "code",
   "execution_count": 39,
   "id": "7cbc4b4f",
   "metadata": {},
   "outputs": [],
   "source": [
    "dangerous_permissions_count = {}\n",
    "PERMISSION_USED = 1\n",
    "\n",
    "for col in df[dangerous_permissions]:\n",
    "    try:\n",
    "        count = df[col].value_counts()\n",
    "        dangerous_permissions_count.update({\n",
    "            col: count[1]\n",
    "        })\n",
    "    except:\n",
    "        dangerous_permissions_count.update({\n",
    "        col: 0\n",
    "    })\n",
    "        continue"
   ]
  },
  {
   "cell_type": "code",
   "execution_count": 40,
   "id": "4e1da6c2",
   "metadata": {},
   "outputs": [],
   "source": [
    "dangerous_permissions_count = pd.Series(\n",
    "    index=dangerous_permissions_count.keys(),\n",
    "    data=dangerous_permissions_count.values()\n",
    ")"
   ]
  },
  {
   "cell_type": "code",
   "execution_count": 41,
   "id": "666d8fb0",
   "metadata": {},
   "outputs": [],
   "source": [
    "safe_permissions_count = pd.Series(\n",
    "    index=safe_permissions_count.keys(),\n",
    "    data=safe_permissions_count.values()\n",
    ")"
   ]
  },
  {
   "cell_type": "code",
   "execution_count": 42,
   "id": "dcffee1e",
   "metadata": {},
   "outputs": [],
   "source": [
    "top5_safe_permissions_count = safe_permissions_count.sort_values(ascending=True)[-5:]\n",
    "top5_dangerous_permissions_count = dangerous_permissions_count.sort_values(ascending=True)[-5:]"
   ]
  },
  {
   "cell_type": "code",
   "execution_count": 43,
   "id": "8796f637",
   "metadata": {},
   "outputs": [
    {
     "data": {
      "image/png": "[encoded data removed]",
      "text/plain": [
       "<Figure size 864x360 with 2 Axes>"
      ]
     },
     "metadata": {
      "needs_background": "light"
     },
     "output_type": "display_data"
    }
   ],
   "source": [
    "fig, axs = plt.subplots(2, 1, figsize=(12,5), sharex=True)\n",
    "fig.suptitle('Top permissões requeridas por classificação')\n",
    "\n",
    "axs[0].barh(top5_safe_permissions_count.index, top5_safe_permissions_count.values, color='b', label='Seguras')\n",
    "axs[1].barh(top5_dangerous_permissions_count.index, malware.values, color='orange', label='Perigosas')\n",
    "\n",
    "highest_value = top5_dangerous_permissions_count.values.max()\n",
    "\n",
    "axs[0].set_xlim([0, highest_value + 2000])\n",
    "axs[1].set_xlim([0, highest_value + 2000])\n",
    "\n",
    "for index in range(2):\n",
    "    axs[index].legend()\n",
    "    axs[index].grid(linestyle='dotted')"
   ]
  },
  {
   "cell_type": "markdown",
   "id": "cc3cfc49",
   "metadata": {},
   "source": [
    "## Feature Engineering"
   ]
  },
  {
   "cell_type": "markdown",
   "id": "08db6fb5",
   "metadata": {},
   "source": [
    "Feature Engineering pode ser definida como o processo de manipulação dos dados de forma a aumentar a interpretabilidade dos mesmos por parte do modelo, com o objetivo de maximizar a qualidade das predições. Entre as etapas que compõem esse processo, é possível destacar a criação de novas features a partir das originais, a seleção de features de acordo com o impacto que causam nas predições, aplicação de transformações objetivando revelar padrões ocultos ou melhorar a adaptação do modelo aos dados, entre outros."
   ]
  },
  {
   "cell_type": "markdown",
   "id": "4f9a8a45",
   "metadata": {},
   "source": [
    "Como ponto de partida, serão criadas features artificiais baseadas nas originais, objetivando avaliar se a utilização destas irá aumentar ou não a qualidade das predições. \n",
    "- `safe_permissions` agrega o número de permissões seguras requeridas por cada aplicativo;\n",
    "- `dangerous_permissions` agrega o número de permissões perigosas requeridas por cada aplicativo.\n",
    "\n",
    "Todas essas novas features foram criadas na [análise exploratória](#Análise-Exploratória)."
   ]
  },
  {
   "cell_type": "markdown",
   "id": "030e01d4",
   "metadata": {},
   "source": [
    "## Modelagem preditiva"
   ]
  },
  {
   "cell_type": "markdown",
   "id": "827736a6",
   "metadata": {},
   "source": [
    "Após o processo de limpeza, é possível criar modelos que consigam explicar a relação entre as features e a classe, no caso, maligna ou benigna, assim, conseguindo classificar as aplicações. Abaixo, estão descritas as etapas de modelagem de dados."
   ]
  },
  {
   "cell_type": "code",
   "execution_count": 44,
   "id": "1c5bb8ee",
   "metadata": {},
   "outputs": [],
   "source": [
    "X = df.select_dtypes(exclude=['object']).drop('Class', axis=1)\n",
    "y = df['Class']"
   ]
  },
  {
   "cell_type": "markdown",
   "id": "c0dc44e0",
   "metadata": {},
   "source": [
    "### Balanceamento"
   ]
  },
  {
   "cell_type": "markdown",
   "id": "5c0db7d5",
   "metadata": {},
   "source": [
    "Um dos principais fatores que podem levar a métricas de classificação enganosas é o desbalanceamento, que ocorre quando o número de classes é desproporcional. Dessa forma, é possível que o modelo não tenha embasamento suficiente para aprender os padrões para determinada classe.\n",
    "\n",
    "A abordagem utilizada para balancear o conjunto de dados é o random undersampling, isto é, remover aleatoriamente alguns valores da classe majoritária até ser igual a quantidade da classe minoritária."
   ]
  },
  {
   "cell_type": "code",
   "execution_count": 45,
   "id": "76de7b47",
   "metadata": {},
   "outputs": [],
   "source": [
    "rus = RandomUnderSampler()\n",
    "X_resampled, y_resampled = rus.fit_resample(X, y)"
   ]
  },
  {
   "cell_type": "markdown",
   "id": "07bfda06",
   "metadata": {},
   "source": [
    "### Análise estatística"
   ]
  },
  {
   "cell_type": "markdown",
   "id": "936ed157",
   "metadata": {},
   "source": [
    "Algumas colunas possuem a distribuição dos valores constantes, ou seja, variância = 0. Estas colunas são irrelevantes para os modelos, portanto, podem ser removidas."
   ]
  },
  {
   "cell_type": "code",
   "execution_count": 46,
   "id": "e2923ac5",
   "metadata": {},
   "outputs": [],
   "source": [
    "constant_filter = VarianceThreshold(threshold=0)\n",
    "constant_filter.fit(X_resampled)\n",
    "constant_columns = [column for column in X_resampled.columns \\\n",
    "                    if column not in \\\n",
    "                    X_resampled.columns[constant_filter.get_support()]]\n",
    "\n",
    "X_resampled.drop(constant_columns, axis=1, inplace=True)"
   ]
  },
  {
   "cell_type": "markdown",
   "id": "a535faaf",
   "metadata": {},
   "source": [
    "O dataset possui uma dimensionalidade (número de features) considerável. Portanto, é válido testar o modelo com os dados originais, remover as features mais irrelevantes e avaliar se a diferença no scoring será muito alta. Para os propósitos deste treinamento, serão utilizadas as 25% melhores features do conjunto de dados."
   ]
  },
  {
   "cell_type": "code",
   "execution_count": 47,
   "id": "792208e6",
   "metadata": {},
   "outputs": [],
   "source": [
    "X_new = SelectPercentile(percentile=25).fit_transform(X_resampled, y_resampled)"
   ]
  },
  {
   "cell_type": "markdown",
   "id": "90d954d0",
   "metadata": {},
   "source": [
    "### Criação do modelo preditivo"
   ]
  },
  {
   "cell_type": "markdown",
   "id": "8faccb8e",
   "metadata": {},
   "source": [
    "Para os propósitos de avaliação dos modelos, será utilizada a **revocação** (ou recall), uma métrica que mede a proporção dos positivos reais que foi corretamente identificada. O objetivo, com isso, é maximizar a capacidade do modelo de classificar corretamente aplicações possivelmente malignas, mesmo que isso signifique aumentar o número de falsos positivos disparados."
   ]
  },
  {
   "cell_type": "code",
   "execution_count": 50,
   "id": "bfd8ec47",
   "metadata": {},
   "outputs": [
    {
     "data": {
      "text/plain": [
       "0.687743871935968"
      ]
     },
     "execution_count": 50,
     "metadata": {},
     "output_type": "execute_result"
    }
   ],
   "source": [
    "# baseline\n",
    "model = RandomForestClassifier(n_estimators=200)\n",
    "np.mean(cross_val_score(model, X_new, y_resampled, scoring='recall', cv=5))"
   ]
  },
  {
   "cell_type": "markdown",
   "id": "6d9d6f39",
   "metadata": {},
   "source": [
    "Para o teste dos modelos, é utilizada uma técnica denominada validação cruzada com k-partições (ou k-fold), que efetua várias rodadas de partições no conjunto de dados de modo a testar o modelo várias vezes com diferentes partições, fornecendo uma métrica mais confiável ao evitar o overfitting (situação na qual o modelo não consegue generalizar para dados que não foram vistos na etapa de treinamento).\n",
    "\n",
    "Para os propósitos deste trabalho, será utilizada validação cruzada com 5 partições, isto é, o treinamento será repetido 5 vezes e, em cada treinamento, os dados serão divididos em 5 partições diferentes, sendo 4 partições para treino e 1 para teste. Em cada iteração desse processo, a partição de teste será diferente, o que garante que o modelo será validado com todos os dados disponíveis. Após isso, agrega-se a média dos 5 resultados."
   ]
  },
  {
   "cell_type": "code",
   "execution_count": 49,
   "id": "c60d1ffc",
   "metadata": {},
   "outputs": [
    {
     "data": {
      "text/plain": [
       "0.903351675837919"
      ]
     },
     "execution_count": 49,
     "metadata": {},
     "output_type": "execute_result"
    }
   ],
   "source": [
    "# solução\n",
    "model = SVC(C=0.5, coef0=1.0, cache_size=800)\n",
    "np.mean(cross_val_score(model, X_new, y_resampled, scoring='recall', cv=5))"
   ]
  },
  {
   "cell_type": "markdown",
   "id": "eb46d312",
   "metadata": {},
   "source": [
    "O modelo SVC obteve um score para o recall de 90.3%, isto é, aproximadamente 90% dos reais positivos foram corretamente classificados. Na prática, isto significa que o modelo será especialmente eficaz para detectar se uma aplicação é potencialmente maligna, mesmo que também signifique que não será particularmente eficiente para detectar aplicações benignas."
   ]
  }
 ],
 "metadata": {
  "kernelspec": {
   "display_name": "Python 3 (ipykernel)",
   "language": "python",
   "name": "python3"
  },
  "language_info": {
   "codemirror_mode": {
    "name": "ipython",
    "version": 3
   },
   "file_extension": ".py",
   "mimetype": "text/x-python",
   "name": "python",
   "nbconvert_exporter": "python",
   "pygments_lexer": "ipython3",
   "version": "3.8.10"
  }
 },
 "nbformat": 4,
 "nbformat_minor": 5
}
