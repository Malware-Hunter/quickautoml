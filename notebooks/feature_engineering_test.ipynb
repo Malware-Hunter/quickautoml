{
 "cells": [
  {
   "cell_type": "code",
   "execution_count": null,
   "id": "8cb91e50-2a7e-43fa-8587-5dd1fd14c7f9",
   "metadata": {},
   "outputs": [],
   "source": [
    "def remove_duplicated_rows(df):\n",
    "    "
   ]
  },
  {
   "cell_type": "code",
   "execution_count": 2,
   "id": "2126056f-5b22-4bbd-a6ea-9699ac274a0d",
   "metadata": {},
   "outputs": [],
   "source": [
    "import pandas as pd"
   ]
  },
  {
   "cell_type": "code",
   "execution_count": 11,
   "id": "76cceee5-c07f-4213-836e-6249e4ef8729",
   "metadata": {},
   "outputs": [],
   "source": [
    "df = pd.read_csv(\"../datasets/apcd_permissions_limpo.csv\", index_col=0)"
   ]
  },
  {
   "cell_type": "code",
   "execution_count": 19,
   "id": "0779506c-aea0-4af1-ab49-d2cca96d5252",
   "metadata": {},
   "outputs": [
    {
     "data": {
      "text/plain": [
       "0        1\n",
       "1        1\n",
       "2        1\n",
       "3        1\n",
       "5        1\n",
       "        ..\n",
       "29990    2\n",
       "29991    1\n",
       "29992    2\n",
       "29993    2\n",
       "29994    2\n",
       "Name: class, Length: 27298, dtype: int64"
      ]
     },
     "execution_count": 19,
     "metadata": {},
     "output_type": "execute_result"
    }
   ],
   "source": [
    "df['class'].apply(lambda x: x + 1)"
   ]
  },
  {
   "cell_type": "code",
   "execution_count": 12,
   "id": "1a9bee2f-812b-4e42-bfdb-8d687a585348",
   "metadata": {},
   "outputs": [
    {
     "data": {
      "text/plain": [
       "27298"
      ]
     },
     "execution_count": 12,
     "metadata": {},
     "output_type": "execute_result"
    }
   ],
   "source": [
    "df.shape[0]"
   ]
  },
  {
   "cell_type": "code",
   "execution_count": 16,
   "id": "b546fda0-f31f-4c26-86a6-3399245c6051",
   "metadata": {},
   "outputs": [
    {
     "data": {
      "text/plain": [
       "20930"
      ]
     },
     "execution_count": 16,
     "metadata": {},
     "output_type": "execute_result"
    }
   ],
   "source": [
    "df.drop_duplicates().shape[0]"
   ]
  },
  {
   "cell_type": "code",
   "execution_count": 18,
   "id": "06da6c26-ea41-48c7-8d83-a0d1d78bb13c",
   "metadata": {},
   "outputs": [
    {
     "data": {
      "text/plain": [
       "True"
      ]
     },
     "execution_count": 18,
     "metadata": {},
     "output_type": "execute_result"
    }
   ],
   "source": [
    "df['class'].isin([0,1]).all()"
   ]
  }
 ],
 "metadata": {
  "kernelspec": {
   "display_name": "Python 3 (ipykernel)",
   "language": "python",
   "name": "python3"
  },
  "language_info": {
   "codemirror_mode": {
    "name": "ipython",
    "version": 3
   },
   "file_extension": ".py",
   "mimetype": "text/x-python",
   "name": "python",
   "nbconvert_exporter": "python",
   "pygments_lexer": "ipython3",
   "version": "3.8.10"
  }
 },
 "nbformat": 4,
 "nbformat_minor": 5
}
