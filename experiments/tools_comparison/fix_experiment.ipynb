{
 "cells": [
  {
   "cell_type": "code",
   "execution_count": 1,
   "source": [
    "import pandas as pd\n",
    "import numpy as np"
   ],
   "outputs": [],
   "metadata": {}
  },
  {
   "cell_type": "code",
   "execution_count": 4,
   "source": [
    "full_df = pd.read_csv('datasets_stats.csv', index_col=0)\n",
    "full_df.head()"
   ],
   "outputs": [
    {
     "output_type": "execute_result",
     "data": {
      "text/plain": [
       "                        dataset  n_instances  n_features  \\\n",
       "316                    haberman          306           3   \n",
       "365  postoperative_patient_data           88           8   \n",
       "399                         tae          151           5   \n",
       "327                        iris          150           4   \n",
       "353                        mux6          128           6   \n",
       "\n",
       "     n_categorical_features  n_continuous_features  n_classes  imbalance  \\\n",
       "316                       0                      3        2.0   0.221453   \n",
       "365                       6                      0        2.0   0.206612   \n",
       "399                       0                      3        3.0   0.000307   \n",
       "327                       0                      4        3.0   0.000000   \n",
       "353                       0                      0        2.0   0.000000   \n",
       "\n",
       "               task  dimensionality group  \n",
       "316  classification             918     A  \n",
       "365  classification             704     A  \n",
       "399  classification             755     A  \n",
       "327  classification             600     A  \n",
       "353  classification             768     A  "
      ],
      "text/html": [
       "<div>\n",
       "<style scoped>\n",
       "    .dataframe tbody tr th:only-of-type {\n",
       "        vertical-align: middle;\n",
       "    }\n",
       "\n",
       "    .dataframe tbody tr th {\n",
       "        vertical-align: top;\n",
       "    }\n",
       "\n",
       "    .dataframe thead th {\n",
       "        text-align: right;\n",
       "    }\n",
       "</style>\n",
       "<table border=\"1\" class=\"dataframe\">\n",
       "  <thead>\n",
       "    <tr style=\"text-align: right;\">\n",
       "      <th></th>\n",
       "      <th>dataset</th>\n",
       "      <th>n_instances</th>\n",
       "      <th>n_features</th>\n",
       "      <th>n_categorical_features</th>\n",
       "      <th>n_continuous_features</th>\n",
       "      <th>n_classes</th>\n",
       "      <th>imbalance</th>\n",
       "      <th>task</th>\n",
       "      <th>dimensionality</th>\n",
       "      <th>group</th>\n",
       "    </tr>\n",
       "  </thead>\n",
       "  <tbody>\n",
       "    <tr>\n",
       "      <th>316</th>\n",
       "      <td>haberman</td>\n",
       "      <td>306</td>\n",
       "      <td>3</td>\n",
       "      <td>0</td>\n",
       "      <td>3</td>\n",
       "      <td>2.0</td>\n",
       "      <td>0.221453</td>\n",
       "      <td>classification</td>\n",
       "      <td>918</td>\n",
       "      <td>A</td>\n",
       "    </tr>\n",
       "    <tr>\n",
       "      <th>365</th>\n",
       "      <td>postoperative_patient_data</td>\n",
       "      <td>88</td>\n",
       "      <td>8</td>\n",
       "      <td>6</td>\n",
       "      <td>0</td>\n",
       "      <td>2.0</td>\n",
       "      <td>0.206612</td>\n",
       "      <td>classification</td>\n",
       "      <td>704</td>\n",
       "      <td>A</td>\n",
       "    </tr>\n",
       "    <tr>\n",
       "      <th>399</th>\n",
       "      <td>tae</td>\n",
       "      <td>151</td>\n",
       "      <td>5</td>\n",
       "      <td>0</td>\n",
       "      <td>3</td>\n",
       "      <td>3.0</td>\n",
       "      <td>0.000307</td>\n",
       "      <td>classification</td>\n",
       "      <td>755</td>\n",
       "      <td>A</td>\n",
       "    </tr>\n",
       "    <tr>\n",
       "      <th>327</th>\n",
       "      <td>iris</td>\n",
       "      <td>150</td>\n",
       "      <td>4</td>\n",
       "      <td>0</td>\n",
       "      <td>4</td>\n",
       "      <td>3.0</td>\n",
       "      <td>0.000000</td>\n",
       "      <td>classification</td>\n",
       "      <td>600</td>\n",
       "      <td>A</td>\n",
       "    </tr>\n",
       "    <tr>\n",
       "      <th>353</th>\n",
       "      <td>mux6</td>\n",
       "      <td>128</td>\n",
       "      <td>6</td>\n",
       "      <td>0</td>\n",
       "      <td>0</td>\n",
       "      <td>2.0</td>\n",
       "      <td>0.000000</td>\n",
       "      <td>classification</td>\n",
       "      <td>768</td>\n",
       "      <td>A</td>\n",
       "    </tr>\n",
       "  </tbody>\n",
       "</table>\n",
       "</div>"
      ]
     },
     "metadata": {},
     "execution_count": 4
    }
   ],
   "metadata": {}
  },
  {
   "cell_type": "code",
   "execution_count": 6,
   "source": [
    "partial_df = pd.read_csv('tools_evaluation.csv')\n",
    "partial_df.head()"
   ],
   "outputs": [
    {
     "output_type": "execute_result",
     "data": {
      "text/plain": [
       "                 dataset_name  dataset_nrows  dataset_ncolumns  tpot_score  \\\n",
       "0                    haberman            306                 3    0.727273   \n",
       "1  postoperative_patient_data             88                 8    0.727273   \n",
       "2                         tae            151                 5    0.552632   \n",
       "3                        iris            150                 4    1.000000   \n",
       "4                        mux6            128                 6    1.000000   \n",
       "\n",
       "   quick_score  autosklearn_score  tpot_time  quick_time  autosklearn_time  \n",
       "0     0.792208           0.740260  33.483010   14.707803        115.655687  \n",
       "1     0.727273           0.636364  19.505441   11.924697        113.459227  \n",
       "2     0.526316           0.526316  32.351226   21.234444        115.830005  \n",
       "3     0.973684           0.947368  33.693358   19.335730        113.843282  \n",
       "4     0.968750           1.000000  39.103563   18.724937        116.980461  "
      ],
      "text/html": [
       "<div>\n",
       "<style scoped>\n",
       "    .dataframe tbody tr th:only-of-type {\n",
       "        vertical-align: middle;\n",
       "    }\n",
       "\n",
       "    .dataframe tbody tr th {\n",
       "        vertical-align: top;\n",
       "    }\n",
       "\n",
       "    .dataframe thead th {\n",
       "        text-align: right;\n",
       "    }\n",
       "</style>\n",
       "<table border=\"1\" class=\"dataframe\">\n",
       "  <thead>\n",
       "    <tr style=\"text-align: right;\">\n",
       "      <th></th>\n",
       "      <th>dataset_name</th>\n",
       "      <th>dataset_nrows</th>\n",
       "      <th>dataset_ncolumns</th>\n",
       "      <th>tpot_score</th>\n",
       "      <th>quick_score</th>\n",
       "      <th>autosklearn_score</th>\n",
       "      <th>tpot_time</th>\n",
       "      <th>quick_time</th>\n",
       "      <th>autosklearn_time</th>\n",
       "    </tr>\n",
       "  </thead>\n",
       "  <tbody>\n",
       "    <tr>\n",
       "      <th>0</th>\n",
       "      <td>haberman</td>\n",
       "      <td>306</td>\n",
       "      <td>3</td>\n",
       "      <td>0.727273</td>\n",
       "      <td>0.792208</td>\n",
       "      <td>0.740260</td>\n",
       "      <td>33.483010</td>\n",
       "      <td>14.707803</td>\n",
       "      <td>115.655687</td>\n",
       "    </tr>\n",
       "    <tr>\n",
       "      <th>1</th>\n",
       "      <td>postoperative_patient_data</td>\n",
       "      <td>88</td>\n",
       "      <td>8</td>\n",
       "      <td>0.727273</td>\n",
       "      <td>0.727273</td>\n",
       "      <td>0.636364</td>\n",
       "      <td>19.505441</td>\n",
       "      <td>11.924697</td>\n",
       "      <td>113.459227</td>\n",
       "    </tr>\n",
       "    <tr>\n",
       "      <th>2</th>\n",
       "      <td>tae</td>\n",
       "      <td>151</td>\n",
       "      <td>5</td>\n",
       "      <td>0.552632</td>\n",
       "      <td>0.526316</td>\n",
       "      <td>0.526316</td>\n",
       "      <td>32.351226</td>\n",
       "      <td>21.234444</td>\n",
       "      <td>115.830005</td>\n",
       "    </tr>\n",
       "    <tr>\n",
       "      <th>3</th>\n",
       "      <td>iris</td>\n",
       "      <td>150</td>\n",
       "      <td>4</td>\n",
       "      <td>1.000000</td>\n",
       "      <td>0.973684</td>\n",
       "      <td>0.947368</td>\n",
       "      <td>33.693358</td>\n",
       "      <td>19.335730</td>\n",
       "      <td>113.843282</td>\n",
       "    </tr>\n",
       "    <tr>\n",
       "      <th>4</th>\n",
       "      <td>mux6</td>\n",
       "      <td>128</td>\n",
       "      <td>6</td>\n",
       "      <td>1.000000</td>\n",
       "      <td>0.968750</td>\n",
       "      <td>1.000000</td>\n",
       "      <td>39.103563</td>\n",
       "      <td>18.724937</td>\n",
       "      <td>116.980461</td>\n",
       "    </tr>\n",
       "  </tbody>\n",
       "</table>\n",
       "</div>"
      ]
     },
     "metadata": {},
     "execution_count": 6
    }
   ],
   "metadata": {}
  },
  {
   "cell_type": "code",
   "execution_count": 15,
   "source": [
    "print(f'Dataset original: {full_df.shape}')\n",
    "print(f'Dataset treinado: {partial_df.shape}')"
   ],
   "outputs": [
    {
     "output_type": "stream",
     "name": "stdout",
     "text": [
      "Dataset original: (42, 10)\n",
      "Dataset treinado: (31, 9)\n"
     ]
    }
   ],
   "metadata": {}
  },
  {
   "cell_type": "markdown",
   "source": [
    "## Problema\n",
    "Para alguns datasets, os mesmos não foram treinados pelas ferramentas, portanto, não há dados disponíveis sobre os mesmos. Por isso, será criado um dataset que apresente os datasets faltantes."
   ],
   "metadata": {}
  },
  {
   "cell_type": "code",
   "execution_count": 13,
   "source": [
    "all_datasets = full_df.dataset.values\n",
    "trained_datasets = partial_df.dataset_name.values"
   ],
   "outputs": [],
   "metadata": {}
  },
  {
   "cell_type": "code",
   "execution_count": 22,
   "source": [
    "datasets_diff = np.setdiff1d(all_datasets, trained_datasets)"
   ],
   "outputs": [],
   "metadata": {}
  },
  {
   "cell_type": "code",
   "execution_count": 26,
   "source": [
    "remain_df = full_df[full_df['dataset'].isin(datasets_diff)]"
   ],
   "outputs": [],
   "metadata": {}
  },
  {
   "cell_type": "code",
   "execution_count": 27,
   "source": [
    "remain_df.to_csv('remain_datasets.csv', index=False)"
   ],
   "outputs": [],
   "metadata": {}
  },
  {
   "cell_type": "markdown",
   "source": [
    "Obtendo datasets que serão utilizados no paper"
   ],
   "metadata": {}
  },
  {
   "cell_type": "code",
   "execution_count": 15,
   "source": [
    "datasets_stats_df = pd.read_csv('datasets_stats.csv', index_col=0)\n",
    "datasets_stats_df.shape"
   ],
   "outputs": [
    {
     "output_type": "execute_result",
     "data": {
      "text/plain": [
       "(42, 10)"
      ]
     },
     "metadata": {},
     "execution_count": 15
    }
   ],
   "metadata": {}
  },
  {
   "cell_type": "code",
   "execution_count": 16,
   "source": [
    "datasets_stats_df.columns"
   ],
   "outputs": [
    {
     "output_type": "execute_result",
     "data": {
      "text/plain": [
       "Index(['dataset', 'n_instances', 'n_features', 'n_categorical_features',\n",
       "       'n_continuous_features', 'n_classes', 'imbalance', 'task',\n",
       "       'dimensionality', 'group'],\n",
       "      dtype='object')"
      ]
     },
     "metadata": {},
     "execution_count": 16
    }
   ],
   "metadata": {}
  },
  {
   "cell_type": "code",
   "execution_count": 17,
   "source": [
    "used_columns_datasets_stats = datasets_stats_df[['dataset', 'n_categorical_features', 'n_continuous_features', 'n_classes', 'group']]"
   ],
   "outputs": [],
   "metadata": {}
  },
  {
   "cell_type": "code",
   "execution_count": 19,
   "source": [
    "used_columns_datasets_stats.to_csv('used_datasets_info.csv', index=True)"
   ],
   "outputs": [],
   "metadata": {}
  }
 ],
 "metadata": {
  "kernelspec": {
   "name": "python3",
   "display_name": "Python 3.8.10 64-bit ('venv': venv)"
  },
  "language_info": {
   "codemirror_mode": {
    "name": "ipython",
    "version": 3
   },
   "file_extension": ".py",
   "mimetype": "text/x-python",
   "name": "python",
   "nbconvert_exporter": "python",
   "pygments_lexer": "ipython3",
   "version": "3.8.10"
  },
  "interpreter": {
   "hash": "a5fac53cfd46f41d6c88094bbf7eac64b89b73b31fd7b0c482badf19629e65fc"
  }
 },
 "nbformat": 4,
 "nbformat_minor": 5
}